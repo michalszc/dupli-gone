{
 "cells": [
  {
   "cell_type": "code",
   "execution_count": 1,
   "metadata": {
    "execution": {
     "iopub.execute_input": "2025-05-22T19:44:05.934432Z",
     "iopub.status.busy": "2025-05-22T19:44:05.934189Z",
     "iopub.status.idle": "2025-05-22T19:44:32.368678Z",
     "shell.execute_reply": "2025-05-22T19:44:32.367917Z",
     "shell.execute_reply.started": "2025-05-22T19:44:05.934404Z"
    },
    "trusted": true
   },
   "outputs": [
    {
     "name": "stderr",
     "output_type": "stream",
     "text": [
      "/home/tosiek/Documents/VIII_semester/DW/dupli-gone/.venv/lib/python3.13/site-packages/tqdm/auto.py:21: TqdmWarning: IProgress not found. Please update jupyter and ipywidgets. See https://ipywidgets.readthedocs.io/en/stable/user_install.html\n",
      "  from .autonotebook import tqdm as notebook_tqdm\n"
     ]
    }
   ],
   "source": [
    "import os\n",
    "import sys\n",
    "from typing import List\n",
    "import numpy as np\n",
    "import faiss\n",
    "\n",
    "ROOT_DIR = os.path.dirname(os.getcwd())\n",
    "sys.path.append(ROOT_DIR)\n",
    "\n",
    "from sentence_transformers import SentenceTransformer\n",
    "import matplotlib.pyplot as plt\n",
    "\n",
    "from utils import *"
   ]
  },
  {
   "cell_type": "code",
   "execution_count": 2,
   "metadata": {},
   "outputs": [],
   "source": [
    "scores = {}"
   ]
  },
  {
   "cell_type": "code",
   "execution_count": 3,
   "metadata": {
    "execution": {
     "iopub.execute_input": "2025-05-22T19:44:32.595899Z",
     "iopub.status.busy": "2025-05-22T19:44:32.595637Z",
     "iopub.status.idle": "2025-05-22T19:44:38.137184Z",
     "shell.execute_reply": "2025-05-22T19:44:38.136561Z",
     "shell.execute_reply.started": "2025-05-22T19:44:32.595878Z"
    },
    "trusted": true
   },
   "outputs": [
    {
     "name": "stderr",
     "output_type": "stream",
     "text": [
      "Loading datasets:   0%|          | 0/5 [00:00<?, ?it/s]"
     ]
    },
    {
     "name": "stderr",
     "output_type": "stream",
     "text": [
      "Loading datasets: 100%|██████████| 5/5 [00:09<00:00,  1.88s/it]\n"
     ]
    }
   ],
   "source": [
    "df = prepare_dataset()"
   ]
  },
  {
   "cell_type": "code",
   "execution_count": 4,
   "metadata": {
    "execution": {
     "iopub.execute_input": "2025-05-22T19:44:38.138096Z",
     "iopub.status.busy": "2025-05-22T19:44:38.137832Z",
     "iopub.status.idle": "2025-05-22T19:44:38.141894Z",
     "shell.execute_reply": "2025-05-22T19:44:38.141331Z",
     "shell.execute_reply.started": "2025-05-22T19:44:38.138076Z"
    },
    "trusted": true
   },
   "outputs": [],
   "source": [
    "texts = df['abstract'].to_list()\n",
    "labels = df['label'].to_list()"
   ]
  },
  {
   "cell_type": "code",
   "execution_count": 5,
   "metadata": {
    "execution": {
     "iopub.execute_input": "2025-05-22T19:44:38.142780Z",
     "iopub.status.busy": "2025-05-22T19:44:38.142535Z",
     "iopub.status.idle": "2025-05-22T19:44:38.153468Z",
     "shell.execute_reply": "2025-05-22T19:44:38.152798Z",
     "shell.execute_reply.started": "2025-05-22T19:44:38.142758Z"
    },
    "trusted": true
   },
   "outputs": [],
   "source": [
    "class EmbeddingDeduplicatorCPU:\n",
    "    '''\n",
    "    A class to deduplicate text embeddings using FAISS.\n",
    "    '''\n",
    "    def __init__(self, model_name: str = 'sentence-transformers/all-MiniLM-L6-v2', dimension: int = 384, top_k: int = 3, threshold: float = 0.85, bacth_size: int = 32):\n",
    "        self.model = SentenceTransformer(model_name, device=\"cpu\", cache_folder='.cache')\n",
    "        self.dimension = dimension\n",
    "        self.top_k = top_k\n",
    "        self.threshold = threshold\n",
    "        self.batch_size = bacth_size\n",
    "    \n",
    "    def predict(self, texts: List[str]) -> np.ndarray:\n",
    "        embeddings = self.model.encode(texts, show_progress_bar=False, normalize_embeddings=True, batch_size=self.batch_size)\n",
    "        \n",
    "        index = faiss.IndexFlatIP(self.dimension)\n",
    "        index.add(embeddings)\n",
    "\n",
    "        similarities, neighbors = index.search(embeddings, self.top_k)\n",
    "\n",
    "        duplicates = set()\n",
    "\n",
    "        for i in range(len(texts)):\n",
    "            for j, sim in zip(neighbors[i][1:], similarities[i][1:]):\n",
    "                if sim > self.threshold:\n",
    "                        duplicates.add(i)\n",
    "                        duplicates.add(j)\n",
    "\n",
    "        indices = np.zeros(len(texts), dtype=int)\n",
    "        indices[list(duplicates)] = 1\n",
    "        return indices"
   ]
  },
  {
   "cell_type": "code",
   "execution_count": 6,
   "metadata": {
    "execution": {
     "iopub.execute_input": "2025-05-22T19:44:38.154492Z",
     "iopub.status.busy": "2025-05-22T19:44:38.154063Z",
     "iopub.status.idle": "2025-05-22T19:44:56.878829Z",
     "shell.execute_reply": "2025-05-22T19:44:56.878151Z",
     "shell.execute_reply.started": "2025-05-22T19:44:38.154469Z"
    },
    "trusted": true
   },
   "outputs": [
    {
     "name": "stdout",
     "output_type": "stream",
     "text": [
      "Summary:\n",
      "Metric                        Value\n",
      "-----------------------------------\n",
      "Accuracy                    0.92749\n",
      "Precision                   0.98256\n",
      "Recall                      0.87043\n",
      "F1                          0.92310\n",
      "Prediction_time_sec        38.85581\n",
      "Samples                  9347.00000\n",
      "Duplicates               4623.00000\n"
     ]
    }
   ],
   "source": [
    "deduplicator = EmbeddingDeduplicatorCPU(\n",
    "    model_name='sentence-transformers/paraphrase-MiniLM-L3-v2',\n",
    "    dimension=384,\n",
    "    threshold=0.96,\n",
    "    top_k=3,\n",
    "    bacth_size=256\n",
    ")\n",
    "benchmark = Benchmark(deduplicator)\n",
    "metrics_cpu = benchmark.evaluate(texts, labels, verbose=True)"
   ]
  },
  {
   "cell_type": "code",
   "execution_count": 9,
   "metadata": {
    "execution": {
     "iopub.execute_input": "2025-05-22T19:46:23.711171Z",
     "iopub.status.busy": "2025-05-22T19:46:23.710347Z",
     "iopub.status.idle": "2025-05-22T19:46:23.721849Z",
     "shell.execute_reply": "2025-05-22T19:46:23.721004Z",
     "shell.execute_reply.started": "2025-05-22T19:46:23.711111Z"
    },
    "trusted": true
   },
   "outputs": [],
   "source": [
    "class EmbeddingDeduplicatorGPU:\n",
    "    '''\n",
    "    A class to deduplicate text embeddings using FAISS.\n",
    "    '''\n",
    "    def __init__(self, model_name: str = 'sentence-transformers/all-MiniLM-L6-v2', dimension: int = 384, top_k: int = 3, threshold: float = 0.85, bacth_size: int = 32):\n",
    "        self.model = SentenceTransformer(model_name, device=\"cuda\", cache_folder='.cache')\n",
    "        self.dimension = dimension\n",
    "        self.top_k = top_k\n",
    "        self.threshold = threshold\n",
    "        self.batch_size = bacth_size\n",
    "    \n",
    "    def predict(self, texts: List[str]) -> np.ndarray:\n",
    "        embeddings = self.model.encode(texts, show_progress_bar=False, normalize_embeddings=True, batch_size=self.batch_size)\n",
    "        \n",
    "        index = faiss.IndexFlatIP(self.dimension)\n",
    "        index.add(embeddings)\n",
    "\n",
    "        similarities, neighbors = index.search(embeddings, self.top_k)\n",
    "\n",
    "        duplicates = set()\n",
    "\n",
    "        for i in range(len(texts)):\n",
    "            for j, sim in zip(neighbors[i][1:], similarities[i][1:]):\n",
    "                if sim > self.threshold:\n",
    "                        duplicates.add(i)\n",
    "                        duplicates.add(j)\n",
    "\n",
    "        indices = np.zeros(len(texts), dtype=int)\n",
    "        indices[list(duplicates)] = 1\n",
    "        return indices"
   ]
  },
  {
   "cell_type": "code",
   "execution_count": 10,
   "metadata": {
    "execution": {
     "iopub.execute_input": "2025-05-22T19:46:26.955312Z",
     "iopub.status.busy": "2025-05-22T19:46:26.954756Z",
     "iopub.status.idle": "2025-05-22T19:46:37.954200Z",
     "shell.execute_reply": "2025-05-22T19:46:37.953239Z",
     "shell.execute_reply.started": "2025-05-22T19:46:26.955291Z"
    },
    "trusted": true
   },
   "outputs": [
    {
     "name": "stdout",
     "output_type": "stream",
     "text": [
      "Summary:\n",
      "Metric                        Value\n",
      "-----------------------------------\n",
      "Accuracy                    0.92749\n",
      "Precision                   0.98256\n",
      "Recall                      0.87043\n",
      "F1                          0.92310\n",
      "Prediction_time_sec         7.42788\n",
      "Samples                  9347.00000\n",
      "Duplicates               4623.00000\n"
     ]
    }
   ],
   "source": [
    "deduplicator = EmbeddingDeduplicatorGPU(\n",
    "    model_name='sentence-transformers/paraphrase-MiniLM-L3-v2',\n",
    "    dimension=384,\n",
    "    threshold=0.96,\n",
    "    top_k=3,\n",
    "    bacth_size=256\n",
    ")\n",
    "benchmark = Benchmark(deduplicator)\n",
    "metrics_gpu = benchmark.evaluate(texts, labels, verbose=True)"
   ]
  },
  {
   "cell_type": "code",
   "execution_count": 11,
   "metadata": {},
   "outputs": [],
   "source": [
    "scores[\"Intel Core\\nUltra 7-155H\"] = metrics_cpu[\"prediction_time_sec\"]\n",
    "scores[\"Nvidia GeForce\\nRTX 4060 35W\"] = metrics_gpu[\"prediction_time_sec\"]\n",
    "scores[\"Apple M4 Pro\"] = 6.00272"
   ]
  },
  {
   "cell_type": "code",
   "execution_count": 12,
   "metadata": {},
   "outputs": [
    {
     "data": {
      "text/plain": [
       "<function matplotlib.pyplot.show(close=None, block=None)>"
      ]
     },
     "execution_count": 12,
     "metadata": {},
     "output_type": "execute_result"
    },
    {
     "data": {
      "image/png": "[encoded data removed]",
      "text/plain": [
       "<Figure size 640x480 with 1 Axes>"
      ]
     },
     "metadata": {},
     "output_type": "display_data"
    }
   ],
   "source": [
    "plt.grid(axis='y')\n",
    "plt.bar(list(scores.keys()), list(scores.values()), color=['blue', 'green', 'black'])\n",
    "plt.show"
   ]
  }
 ],
 "metadata": {
  "kaggle": {
   "accelerator": "nvidiaTeslaT4",
   "dataSources": [],
   "dockerImageVersionId": 31041,
   "isGpuEnabled": true,
   "isInternetEnabled": true,
   "language": "python",
   "sourceType": "notebook"
  },
  "kernelspec": {
   "display_name": ".venv",
   "language": "python",
   "name": "python3"
  },
  "language_info": {
   "codemirror_mode": {
    "name": "ipython",
    "version": 3
   },
   "file_extension": ".py",
   "mimetype": "text/x-python",
   "name": "python",
   "nbconvert_exporter": "python",
   "pygments_lexer": "ipython3",
   "version": "3.13.3"
  }
 },
 "nbformat": 4,
 "nbformat_minor": 4
}
