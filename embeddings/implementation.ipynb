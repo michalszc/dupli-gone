{
 "cells": [
  {
   "cell_type": "markdown",
   "id": "87772ee3",
   "metadata": {},
   "source": [
    "# Efficient Duplicate Detection with Embeddings and FAISS"
   ]
  },
  {
   "cell_type": "code",
   "execution_count": 1,
   "id": "68a6a4a3",
   "metadata": {},
   "outputs": [
    {
     "name": "stderr",
     "output_type": "stream",
     "text": [
      "/Users/michalszczygiel/workspace/dupli-gone/.venv/lib/python3.13/site-packages/tqdm/auto.py:21: TqdmWarning: IProgress not found. Please update jupyter and ipywidgets. See https://ipywidgets.readthedocs.io/en/stable/user_install.html\n",
      "  from .autonotebook import tqdm as notebook_tqdm\n"
     ]
    }
   ],
   "source": [
    "import os\n",
    "import sys\n",
    "from typing import List\n",
    "\n",
    "ROOT_DIR = os.path.dirname(os.getcwd())\n",
    "sys.path.append(ROOT_DIR)\n",
    "\n",
    "import faiss\n",
    "import numpy as np\n",
    "from sentence_transformers import SentenceTransformer\n",
    "\n",
    "from utils import *"
   ]
  },
  {
   "cell_type": "code",
   "execution_count": 2,
   "id": "e370ad2e",
   "metadata": {},
   "outputs": [
    {
     "name": "stderr",
     "output_type": "stream",
     "text": [
      "Loading datasets: 100%|██████████| 5/5 [00:04<00:00,  1.24it/s]\n"
     ]
    }
   ],
   "source": [
    "df = prepare_dataset()"
   ]
  },
  {
   "cell_type": "code",
   "execution_count": 3,
   "id": "47ad5bcb",
   "metadata": {},
   "outputs": [],
   "source": [
    "class EmbeddingDeduplicator:\n",
    "    '''\n",
    "    A class to deduplicate text embeddings using FAISS.\n",
    "    '''\n",
    "    def __init__(self, model_name: str = 'sentence-transformers/all-MiniLM-L6-v2', dimension: int = 384, top_k: int = 5, threshold: float = 0.85):\n",
    "        self.model = SentenceTransformer(model_name, cache_folder='.cache')\n",
    "        self.dimension = dimension\n",
    "        self.top_k = top_k\n",
    "        self.threshold = threshold\n",
    "    \n",
    "    def predict(self, texts: List[str]) -> List[int]:\n",
    "        embeddings = self.model.encode(texts, show_progress_bar=False, normalize_embeddings=True)\n",
    "        \n",
    "        index = faiss.IndexFlatIP(self.dimension)\n",
    "        index.add(embeddings)\n",
    "\n",
    "        similarities, neighbors = index.search(embeddings, self.top_k)\n",
    "\n",
    "        duplicates = set()\n",
    "\n",
    "        for i in range(len(texts)):\n",
    "            for j, sim in zip(neighbors[i][1:], similarities[i][1:]):\n",
    "                if sim > self.threshold:\n",
    "                        duplicates.add(i)\n",
    "                        duplicates.add(j)\n",
    "\n",
    "        indices = np.zeros(len(texts), dtype=int)\n",
    "        indices[list(duplicates)] = 1\n",
    "        return indices"
   ]
  },
  {
   "cell_type": "code",
   "execution_count": 4,
   "id": "f203ee81",
   "metadata": {},
   "outputs": [
    {
     "data": {
      "text/plain": [
       "{'accuracy': 0.9459195161035377,\n",
       " 'precision': 0.9690495374916931,\n",
       " 'recall': 0.921263248972552,\n",
       " 'f1': 0.9445523848937178,\n",
       " 'prediction_time_sec': 21.910506010055542,\n",
       " 'samples': 9347,\n",
       " 'duplicates': 4623}"
      ]
     },
     "execution_count": 4,
     "metadata": {},
     "output_type": "execute_result"
    }
   ],
   "source": [
    "deduplicator = EmbeddingDeduplicator(threshold=0.95, top_k=3)\n",
    "benchmark = Benchmark(deduplicator)\n",
    "benchmark.evaluate(df['abstract'].to_list(), df['label'])"
   ]
  }
 ],
 "metadata": {
  "kernelspec": {
   "display_name": ".venv",
   "language": "python",
   "name": "python3"
  },
  "language_info": {
   "codemirror_mode": {
    "name": "ipython",
    "version": 3
   },
   "file_extension": ".py",
   "mimetype": "text/x-python",
   "name": "python",
   "nbconvert_exporter": "python",
   "pygments_lexer": "ipython3",
   "version": "3.13.2"
  }
 },
 "nbformat": 4,
 "nbformat_minor": 5
}
