{
 "cells": [
  {
   "cell_type": "code",
   "execution_count": 18,
   "metadata": {},
   "outputs": [],
   "source": [
    "import pandas as pd\n",
    "import requests\n",
    "import xml.etree.ElementTree as ET\n",
    "from sklearn.metrics import accuracy_score"
   ]
  },
  {
   "cell_type": "code",
   "execution_count": 2,
   "metadata": {},
   "outputs": [],
   "source": [
    "def load_xml_from_url(url: str) -> pd.DataFrame:\n",
    "    r = requests.get(url)\n",
    "\n",
    "    root = ET.fromstring(r.text)\n",
    "    records = root.find('records') \n",
    "\n",
    "    def extract(child):\n",
    "        parts = []\n",
    "        for sub in child:\n",
    "            if len(sub) != 0:\n",
    "                parts.append(extract(sub))\n",
    "                continue\n",
    "\n",
    "            if sub.tag.lower() in ('_face','_font','_size'):\n",
    "                continue\n",
    "\n",
    "            if sub.text and sub.text.strip():\n",
    "                parts.append(sub.text.strip())\n",
    "        text = ','.join(parts)\n",
    "\n",
    "        return text\n",
    "\n",
    "    rows = []\n",
    "    for rec in records.findall('record'):\n",
    "        row = {}\n",
    "        for child in rec:\n",
    "            text = ''\n",
    "            tag = child.tag\n",
    "            if len(child) == 0:\n",
    "                text = (child.text or '').strip()\n",
    "            else:\n",
    "                text = extract(child)\n",
    "\n",
    "            row[tag] = text\n",
    "        rows.append(row)\n",
    "\n",
    "    return pd.DataFrame(rows)"
   ]
  },
  {
   "cell_type": "code",
   "execution_count": 5,
   "metadata": {},
   "outputs": [
    {
     "data": {
      "text/plain": [
       "Index(['database', 'source-app', 'rec-number', 'foreign-keys', 'ref-type',\n",
       "       'contributors', 'auth-address', 'titles', 'periodical', 'volume',\n",
       "       'number', 'edition', 'keywords', 'dates', 'isbn', 'accession-num',\n",
       "       'abstract', 'notes', 'urls', 'custom2', 'electronic-resource-num',\n",
       "       'remote-database-provider', 'language', 'pages', 'work-type', 'custom1',\n",
       "       'remote-database-name', 'custom5', 'caption', 'custom3', 'custom7',\n",
       "       'alt-periodical', 'custom4', 'label'],\n",
       "      dtype='object')"
      ]
     },
     "execution_count": 5,
     "metadata": {},
     "output_type": "execute_result"
    }
   ],
   "source": [
    "url = 'https://raw.githubusercontent.com/IEBH/dedupe-sweep/master/test/data/tafenoquine.xml'\n",
    "\n",
    "df_tafenoquine = load_xml_from_url(url)\n",
    "df_tafenoquine['label'] = df_tafenoquine['caption'].apply(lambda x: 1 if x == 'Duplicate' else 0)\n",
    "\n",
    "df_tafenoquine.columns"
   ]
  },
  {
   "cell_type": "markdown",
   "metadata": {},
   "source": [
    "## Computing Jaccard similarity\n",
    "\n",
    "*Jaccard similarity* of two sets $A$ and $B$ is typicallly defined by the following formula\n",
    "\n",
    "$$\n",
    "J(A, B) = \\frac{|A \\cap B|}{|A \\cup B|}.\n",
    "$$\n",
    "\n",
    "In order to use it for string comparison, we need to somehow represent the string, which is an ordered sequence of characters,\n",
    "as a set. We will do that by computing n-grams, which for this algorithms purposes, will be a set of all n-length character\n",
    "sequences that occur within analyzed text."
   ]
  },
  {
   "cell_type": "code",
   "execution_count": 6,
   "metadata": {},
   "outputs": [
    {
     "data": {
      "text/plain": [
       "['ap', 'pp', 'pl', 'le']"
      ]
     },
     "execution_count": 6,
     "metadata": {},
     "output_type": "execute_result"
    }
   ],
   "source": [
    "def find_ngrams(text: str, n: int):\n",
    "    return [text[i:i + n] for i in range(len(text) - n + 1)]\n",
    "\n",
    "find_ngrams('apple', 2)"
   ]
  },
  {
   "cell_type": "code",
   "execution_count": 7,
   "metadata": {},
   "outputs": [
    {
     "name": "stdout",
     "output_type": "stream",
     "text": [
      "0.8\n",
      "0.2\n",
      "0.0\n",
      "0.18473895582329317\n"
     ]
    }
   ],
   "source": [
    "def jaccard_similarity(a: str, b: str) -> float:\n",
    "    a_ngrams = set(find_ngrams(a, 2))\n",
    "    b_ngrams = set(find_ngrams(b, 2))\n",
    "\n",
    "    intersection = a_ngrams.intersection(b_ngrams)\n",
    "    union = a_ngrams.union(b_ngrams)\n",
    "\n",
    "    return len(intersection) / len(union) if len(union) != 0 else 0\n",
    "\n",
    "print(jaccard_similarity('apple', 'apples'))\n",
    "print(jaccard_similarity('apple', 'apap'))\n",
    "print(jaccard_similarity('apple', 'giraffe'))\n",
    "\n",
    "long_strings = (\n",
    "\"Reasumując wszystkie aspekty kwintesencji tematu, dochodzę do fundamentalej konkluzji - warto studiować.\",\n",
    "\"No hejka, co tam się z Tobą dzieje? Skąd to zwątpienie? Dlaczego chcesz teraz się poddać, tylko dlatego, że raz czy drugi Ci nie wyszło? To nie jest żaden powód. Musisz iść i walczyć. Osiągniesz cel. Prędzej czy później go osiągniesz, ale musisz iść do przodu, przeć, walczyć o swoje. Nie ważne, że wszystko dookoła jest przeciwko Tobie. Najważniejsze jest to, że masz tutaj wole zwycięstwa. To się liczy. Każdy może osiągnąć cel, nie ważne czy taki czy taki, ale trzeba iść\"\n",
    ")\n",
    "\n",
    "print(jaccard_similarity(*long_strings))"
   ]
  },
  {
   "cell_type": "code",
   "execution_count": 8,
   "metadata": {},
   "outputs": [
    {
     "name": "stdout",
     "output_type": "stream",
     "text": [
      "0.21650083064251954\n",
      "0.6970957130335017\n"
     ]
    }
   ],
   "source": [
    "from typing import List\n",
    "import numpy as np\n",
    "\n",
    "def compare_records(rec1: List[str], rec2: List[str]):\n",
    "    scores = [jaccard_similarity(a, b) for a, b in zip(rec1, rec2) if not pd.isna(a) and not pd.isna(b)]\n",
    "    return np.mean(scores)\n",
    "\n",
    "def extract_interesting_strings(series: pd.Series) -> List[str]:\n",
    "    return series[[\"titles\", \"contributors\", \"periodical\", \"abstract\"]].tolist()\n",
    "\n",
    "# Unrelated records\n",
    "print(compare_records(\n",
    "    extract_interesting_strings(df_tafenoquine.iloc[0]),\n",
    "    extract_interesting_strings(df_tafenoquine.iloc[1])\n",
    "))\n",
    "\n",
    "# Actual duplicates\n",
    "print(compare_records(\n",
    "    extract_interesting_strings(df_tafenoquine.iloc[8]),\n",
    "    extract_interesting_strings(df_tafenoquine.iloc[9])\n",
    "))\n"
   ]
  },
  {
   "cell_type": "code",
   "execution_count": 9,
   "metadata": {},
   "outputs": [],
   "source": [
    "import itertools\n",
    "\n",
    "def find_duplicate_records(df: pd.DataFrame, threshold: float = 0.6) -> List[tuple]:\n",
    "    duplicates = []\n",
    "    for (s1_idx, s1), (s2_idx, s2) in itertools.combinations(df.iterrows(), 2):\n",
    "        score = compare_records(\n",
    "            extract_interesting_strings(s1),\n",
    "            extract_interesting_strings(s2)\n",
    "        )\n",
    "        \n",
    "        if score > threshold:\n",
    "            duplicates.append((s1_idx, s2_idx, score))\n",
    "    return duplicates\n",
    "\n",
    "duplicates = find_duplicate_records(df_tafenoquine)"
   ]
  },
  {
   "cell_type": "code",
   "execution_count": 10,
   "metadata": {},
   "outputs": [],
   "source": [
    "def deduplication_results(df: pd.DataFrame, threshold: float) -> tuple:\n",
    "    duplicates = find_duplicate_records(df, threshold=threshold)\n",
    "    y_true = df['label']\n",
    "    y_pred = [0] * len(y_true)\n",
    "    for s1_idx, s2_idx, _ in duplicates:\n",
    "        y_pred[s1_idx] = 1\n",
    "        y_pred[s2_idx] = 1\n",
    "    return y_true, y_pred"
   ]
  },
  {
   "cell_type": "code",
   "execution_count": 11,
   "metadata": {},
   "outputs": [],
   "source": [
    "from sklearn.metrics import accuracy_score\n",
    "\n",
    "accuracies = []\n",
    "thresholds = list(np.linspace(0.5, 1.0))\n",
    "for threshold in thresholds:\n",
    "    y_true, y_pred = deduplication_results(df_tafenoquine, threshold=threshold)\n",
    "    accuracy = accuracy_score(y_true, y_pred)\n",
    "    accuracies.append(accuracy)"
   ]
  },
  {
   "cell_type": "code",
   "execution_count": 13,
   "metadata": {},
   "outputs": [],
   "source": [
    "import pickle\n",
    "\n",
    "with open(\"threshold_search_results.pkl\", \"wb\") as f:\n",
    "    pickle.dump((thresholds, accuracies), f)"
   ]
  },
  {
   "cell_type": "code",
   "execution_count": 14,
   "metadata": {},
   "outputs": [],
   "source": [
    "import pickle\n",
    "\n",
    "with open(\"threshold_search_results.pkl\", \"rb\") as f:\n",
    "    thresholds, accuracies = pickle.load(f)"
   ]
  },
  {
   "cell_type": "code",
   "execution_count": 17,
   "metadata": {},
   "outputs": [
    {
     "data": {
      "text/plain": [
       "Text(0, 0.5, 'Accuracy')"
      ]
     },
     "execution_count": 17,
     "metadata": {},
     "output_type": "execute_result"
    },
    {
     "data": {
      "image/png": "[encoded data removed]",
      "text/plain": [
       "<Figure size 1080x720 with 1 Axes>"
      ]
     },
     "metadata": {
      "needs_background": "light"
     },
     "output_type": "display_data"
    }
   ],
   "source": [
    "import matplotlib.pyplot as plt\n",
    "\n",
    "plt.figure(figsize=(15, 10))\n",
    "plt.plot(thresholds, accuracies)\n",
    "plt.xlabel('Threshold')\n",
    "plt.ylabel('Accuracy')"
   ]
  },
  {
   "cell_type": "code",
   "execution_count": 15,
   "metadata": {},
   "outputs": [
    {
     "name": "stdout",
     "output_type": "stream",
     "text": [
      "Max accuracy: 0.9832402234636871 achieved at threshold 0.673469387755102\n"
     ]
    }
   ],
   "source": [
    "idx_max = np.argmax(accuracies)\n",
    "threshold = thresholds[idx_max]\n",
    "\n",
    "print(f\"Max accuracy: {accuracies[idx_max]} achieved at threshold {threshold}\")"
   ]
  },
  {
   "cell_type": "code",
   "execution_count": null,
   "metadata": {},
   "outputs": [
    {
     "ename": "NameError",
     "evalue": "name 'accuracy_score' is not defined",
     "output_type": "error",
     "traceback": [
      "\u001b[0;31m---------------------------------------------------------------------------\u001b[0m",
      "\u001b[0;31mNameError\u001b[0m                                 Traceback (most recent call last)",
      "\u001b[0;32m/tmp/ipykernel_97825/1512278593.py\u001b[0m in \u001b[0;36m<module>\u001b[0;34m\u001b[0m\n\u001b[1;32m      5\u001b[0m \u001b[0;34m\u001b[0m\u001b[0m\n\u001b[1;32m      6\u001b[0m \u001b[0my_true\u001b[0m\u001b[0;34m,\u001b[0m \u001b[0my_pred\u001b[0m \u001b[0;34m=\u001b[0m \u001b[0mdeduplication_results\u001b[0m\u001b[0;34m(\u001b[0m\u001b[0mdf_uti\u001b[0m\u001b[0;34m,\u001b[0m \u001b[0mthreshold\u001b[0m\u001b[0;34m=\u001b[0m\u001b[0mthreshold\u001b[0m\u001b[0;34m)\u001b[0m\u001b[0;34m\u001b[0m\u001b[0;34m\u001b[0m\u001b[0m\n\u001b[0;32m----> 7\u001b[0;31m \u001b[0maccuracy\u001b[0m \u001b[0;34m=\u001b[0m \u001b[0maccuracy_score\u001b[0m\u001b[0;34m(\u001b[0m\u001b[0my_true\u001b[0m\u001b[0;34m,\u001b[0m \u001b[0my_pred\u001b[0m\u001b[0;34m)\u001b[0m\u001b[0;34m\u001b[0m\u001b[0;34m\u001b[0m\u001b[0m\n\u001b[0m\u001b[1;32m      8\u001b[0m \u001b[0mprint\u001b[0m\u001b[0;34m(\u001b[0m\u001b[0maccuracy\u001b[0m\u001b[0;34m)\u001b[0m\u001b[0;34m\u001b[0m\u001b[0;34m\u001b[0m\u001b[0m\n",
      "\u001b[0;31mNameError\u001b[0m: name 'accuracy_score' is not defined"
     ]
    }
   ],
   "source": [
    "url = 'https://raw.githubusercontent.com/IEBH/dedupe-sweep/master/test/data/uti.xml'\n",
    "\n",
    "df_uti = load_xml_from_url(url)\n",
    "df_uti['label'] = df_uti['caption'].apply(lambda x: 1 if x == 'Duplicate' else 0)\n",
    "\n",
    "y_true, y_pred = deduplication_results(df_uti, threshold=threshold)\n",
    "accuracy = accuracy_score(y_true, y_pred)\n",
    "print(accuracy)"
   ]
  },
  {
   "cell_type": "code",
   "execution_count": null,
   "metadata": {},
   "outputs": [],
   "source": [
    "url = 'https://raw.githubusercontent.com/IEBH/dedupe-sweep/master/test/data/diabetes.xml'\n",
    "\n",
    "df_diabetes = load_xml_from_url(url)\n",
    "df_diabetes['label'] = df_diabetes['caption'].apply(lambda x: 1 if x == 'Duplicate' else 0)\n",
    "df_diabetes = df_diabetes.dropna(subset=['abstract'])\n",
    "\n",
    "y_true, y_pred = deduplication_results(df_diabetes, threshold=threshold)\n",
    "accuracy = accuracy_score(y_true, y_pred)\n",
    "print(accuracy)"
   ]
  },
  {
   "cell_type": "code",
   "execution_count": null,
   "metadata": {},
   "outputs": [],
   "source": [
    "url = 'https://raw.githubusercontent.com/IEBH/dedupe-sweep/master/test/data/copper.xml'\n",
    "\n",
    "df_copper = load_xml_from_url(url)\n",
    "df_copper['label'] = df_copper['caption'].apply(lambda x: 1 if x == 'Duplicate' else 0)\n",
    "df_copper = df_copper.dropna(subset=['abstract'])\n",
    "\n",
    "y_true, y_pred = deduplication_results(df_copper, threshold=threshold)\n",
    "accuracy = accuracy_score(y_true, y_pred)\n",
    "print(accuracy)"
   ]
  },
  {
   "cell_type": "code",
   "execution_count": null,
   "metadata": {},
   "outputs": [],
   "source": [
    "url = 'https://raw.githubusercontent.com/IEBH/dedupe-sweep/master/test/data/blue-light.xml'\n",
    "\n",
    "df_blue_light = load_xml_from_url(url)\n",
    "df_blue_light['label'] = df_blue_light['caption'].apply(lambda x: 1 if x == 'Duplicate' else 0)\n",
    "df_blue_light = df_blue_light.dropna(subset=['abstract'])\n",
    "\n",
    "y_true, y_pred = deduplication_results(df_copper, threshold=threshold)\n",
    "accuracy = accuracy_score(y_true, y_pred)\n",
    "print(accuracy)"
   ]
  }
 ],
 "metadata": {
  "kernelspec": {
   "display_name": "Python 3",
   "language": "python",
   "name": "python3"
  },
  "language_info": {
   "codemirror_mode": {
    "name": "ipython",
    "version": 3
   },
   "file_extension": ".py",
   "mimetype": "text/x-python",
   "name": "python",
   "nbconvert_exporter": "python",
   "pygments_lexer": "ipython3",
   "version": "3.10.12"
  }
 },
 "nbformat": 4,
 "nbformat_minor": 2
}
