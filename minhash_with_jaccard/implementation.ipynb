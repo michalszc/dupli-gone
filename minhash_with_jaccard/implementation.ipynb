{
 "cells": [
  {
   "cell_type": "code",
   "execution_count": 2,
   "id": "a774cd00",
   "metadata": {},
   "outputs": [],
   "source": [
    "from typing import List\n",
    "\n",
    "import os\n",
    "import sys\n",
    "\n",
    "ROOT_DIR = os.path.dirname(os.getcwd())\n",
    "sys.path.append(ROOT_DIR)\n",
    "\n",
    "import pandas as pd\n",
    "from utils import *"
   ]
  },
  {
   "cell_type": "code",
   "execution_count": 16,
   "id": "a834ea29",
   "metadata": {},
   "outputs": [],
   "source": [
    "import itertools\n",
    "\n",
    "class MinHashDeduplicator:\n",
    "    '''\n",
    "    A class to deduplicate articles using MinHash\n",
    "    '''\n",
    "    def __init__(self, k=8, threshold=0.51):\n",
    "        self.k = k\n",
    "        self.treshold = threshold\n",
    "        self.metrics = []\n",
    "\n",
    "    def predict(self, articles: pd.DataFrame) -> List[int]:\n",
    "        # change each row to set without hashed values, without NaNs\n",
    "        metrics = []\n",
    "        rows = []\n",
    "        for _, row in articles.iterrows():\n",
    "            row = row.dropna().apply(hash).to_list()\n",
    "            row.sort()\n",
    "            rows.append(set(row[:self.k]))\n",
    "\n",
    "        result = [0 for _ in rows]\n",
    "        # for each pair of rows calculate estimate\n",
    "        for (i, j) in itertools.combinations(range(len(result)), 2):\n",
    "            X = set(sorted(rows[i] | rows[j])[:self.k])\n",
    "            Y = X & rows[i] & rows[j]\n",
    "            self.metrics.append(len(Y) / self.k)\n",
    "            if len(Y) / self.k > self.treshold:\n",
    "                result[i] = 1\n",
    "                result[j] = 1\n",
    "        return result\n"
   ]
  },
  {
   "cell_type": "code",
   "execution_count": 4,
   "id": "65c3b618",
   "metadata": {},
   "outputs": [
    {
     "name": "stderr",
     "output_type": "stream",
     "text": [
      "Loading datasets: 100%|██████████| 5/5 [00:06<00:00,  1.26s/it]\n"
     ]
    }
   ],
   "source": [
    "df = prepare_dataset()"
   ]
  },
  {
   "cell_type": "code",
   "execution_count": null,
   "id": "70a0bacc",
   "metadata": {},
   "outputs": [
    {
     "name": "stdout",
     "output_type": "stream",
     "text": [
      "<module 'utils.dataset' from '/home/stachu/projects/dupli-gone/utils/dataset.py'>: {'accuracy': 0.5015141682889898, 'precision': 1.0, 'recall': 0.003028336577979463, 'f1': 0.00603838688807378, 'prediction_time_sec': 91.78468060493469, 'samples': 9347, 'duplicates': 4623}\n"
     ]
    }
   ],
   "source": [
    "deduplicator = MinHashDeduplicator(threshold=0.99)\n",
    "benchmark = Benchmark(deduplicator)\n",
    "\n",
    "print(f\"{dataset}: {benchmark.evaluate(df.drop(columns=['caption', 'label', 'database', 'source-app']), df['label'])}\")"
   ]
  },
  {
   "cell_type": "code",
   "execution_count": 11,
   "id": "059c90ad",
   "metadata": {},
   "outputs": [
    {
     "name": "stdout",
     "output_type": "stream",
     "text": [
      "43678531\n"
     ]
    }
   ],
   "source": [
    "print(len(deduplicator.metrics))\n",
    "\n",
    "import random\n",
    "\n",
    "metrics = random.sample(deduplicator.metrics, 10000)\n"
   ]
  },
  {
   "cell_type": "code",
   "execution_count": 13,
   "id": "1ba9ada0",
   "metadata": {},
   "outputs": [
    {
     "data": {
      "text/plain": [
       "(array([9.354e+03, 0.000e+00, 0.000e+00, 0.000e+00, 0.000e+00, 0.000e+00,\n",
       "        0.000e+00, 0.000e+00, 0.000e+00, 0.000e+00, 0.000e+00, 0.000e+00,\n",
       "        0.000e+00, 0.000e+00, 0.000e+00, 0.000e+00, 0.000e+00, 0.000e+00,\n",
       "        0.000e+00, 0.000e+00, 6.250e+02, 0.000e+00, 0.000e+00, 0.000e+00,\n",
       "        0.000e+00, 0.000e+00, 0.000e+00, 0.000e+00, 0.000e+00, 0.000e+00,\n",
       "        0.000e+00, 0.000e+00, 0.000e+00, 0.000e+00, 0.000e+00, 0.000e+00,\n",
       "        0.000e+00, 0.000e+00, 0.000e+00, 0.000e+00, 1.900e+01, 0.000e+00,\n",
       "        0.000e+00, 0.000e+00, 0.000e+00, 0.000e+00, 0.000e+00, 0.000e+00,\n",
       "        0.000e+00, 0.000e+00, 0.000e+00, 0.000e+00, 0.000e+00, 0.000e+00,\n",
       "        0.000e+00, 0.000e+00, 0.000e+00, 0.000e+00, 0.000e+00, 0.000e+00,\n",
       "        1.000e+00, 0.000e+00, 0.000e+00, 0.000e+00, 0.000e+00, 0.000e+00,\n",
       "        0.000e+00, 0.000e+00, 0.000e+00, 0.000e+00, 0.000e+00, 0.000e+00,\n",
       "        0.000e+00, 0.000e+00, 0.000e+00, 0.000e+00, 0.000e+00, 0.000e+00,\n",
       "        0.000e+00, 0.000e+00, 0.000e+00, 0.000e+00, 0.000e+00, 0.000e+00,\n",
       "        0.000e+00, 0.000e+00, 0.000e+00, 0.000e+00, 0.000e+00, 0.000e+00,\n",
       "        0.000e+00, 0.000e+00, 0.000e+00, 0.000e+00, 0.000e+00, 0.000e+00,\n",
       "        0.000e+00, 0.000e+00, 0.000e+00, 1.000e+00]),\n",
       " array([0.   , 0.005, 0.01 , 0.015, 0.02 , 0.025, 0.03 , 0.035, 0.04 ,\n",
       "        0.045, 0.05 , 0.055, 0.06 , 0.065, 0.07 , 0.075, 0.08 , 0.085,\n",
       "        0.09 , 0.095, 0.1  , 0.105, 0.11 , 0.115, 0.12 , 0.125, 0.13 ,\n",
       "        0.135, 0.14 , 0.145, 0.15 , 0.155, 0.16 , 0.165, 0.17 , 0.175,\n",
       "        0.18 , 0.185, 0.19 , 0.195, 0.2  , 0.205, 0.21 , 0.215, 0.22 ,\n",
       "        0.225, 0.23 , 0.235, 0.24 , 0.245, 0.25 , 0.255, 0.26 , 0.265,\n",
       "        0.27 , 0.275, 0.28 , 0.285, 0.29 , 0.295, 0.3  , 0.305, 0.31 ,\n",
       "        0.315, 0.32 , 0.325, 0.33 , 0.335, 0.34 , 0.345, 0.35 , 0.355,\n",
       "        0.36 , 0.365, 0.37 , 0.375, 0.38 , 0.385, 0.39 , 0.395, 0.4  ,\n",
       "        0.405, 0.41 , 0.415, 0.42 , 0.425, 0.43 , 0.435, 0.44 , 0.445,\n",
       "        0.45 , 0.455, 0.46 , 0.465, 0.47 , 0.475, 0.48 , 0.485, 0.49 ,\n",
       "        0.495, 0.5  ]),\n",
       " <BarContainer object of 100 artists>)"
      ]
     },
     "execution_count": 13,
     "metadata": {},
     "output_type": "execute_result"
    },
    {
     "data": {
      "image/png": "[encoded data removed]",
      "text/plain": [
       "<Figure size 432x288 with 1 Axes>"
      ]
     },
     "metadata": {
      "needs_background": "light"
     },
     "output_type": "display_data"
    }
   ],
   "source": [
    "import matplotlib.pyplot as plt\n",
    "\n",
    "plt.hist(metrics, bins=100)"
   ]
  },
  {
   "cell_type": "markdown",
   "id": "461678a5",
   "metadata": {},
   "source": []
  },
  {
   "cell_type": "code",
   "execution_count": 43,
   "id": "55dd86bc",
   "metadata": {},
   "outputs": [],
   "source": [
    "def find_ngrams(text: str, n: int):\n",
    "    return [text[i:i + n] for i in range(len(text) - n + 1)]\n",
    "\n",
    "def jaccard_similarity(a: str, b: str) -> float:\n",
    "    a_ngrams = set(find_ngrams(a, 2))\n",
    "    b_ngrams = set(find_ngrams(b, 2))\n",
    "\n",
    "    intersection = a_ngrams.intersection(b_ngrams)\n",
    "    union = a_ngrams.union(b_ngrams)\n",
    "\n",
    "    return len(intersection) / len(union) if len(union) != 0 else 0\n",
    "\n",
    "def compare_records(rec1: List[str], rec2: List[str]):\n",
    "    scores = [jaccard_similarity(a, b) for a, b in zip(rec1, rec2) if not pd.isna(a) and not pd.isna(b)]\n",
    "    return np.mean(scores)\n",
    "\n",
    "def extract_interesting_strings(series: pd.Series) -> List[str]:\n",
    "    return series[[\"titles\", \"contributors\", \"periodical\", \"abstract\"]].tolist()\n",
    "\n",
    "def deduplication_results(df: pd.DataFrame, threshold: float = 0.6) -> List[bool]:\n",
    "    labels = {idx: 0 for idx in df.index}\n",
    "    for (s1_idx, s1), (s2_idx, s2) in itertools.combinations(df.iterrows(), 2):\n",
    "        score = compare_records(\n",
    "            extract_interesting_strings(s1),\n",
    "            extract_interesting_strings(s2)\n",
    "        )\n",
    "        \n",
    "        if score > threshold:\n",
    "            labels[s1_idx] = 1\n",
    "            labels[s2_idx] = 1\n",
    "    return [value for key, value in sorted(labels.items())]"
   ]
  }
 ],
 "metadata": {
  "kernelspec": {
   "display_name": "Python 3",
   "language": "python",
   "name": "python3"
  },
  "language_info": {
   "codemirror_mode": {
    "name": "ipython",
    "version": 3
   },
   "file_extension": ".py",
   "mimetype": "text/x-python",
   "name": "python",
   "nbconvert_exporter": "python",
   "pygments_lexer": "ipython3",
   "version": "3.10.12"
  }
 },
 "nbformat": 4,
 "nbformat_minor": 5
}
