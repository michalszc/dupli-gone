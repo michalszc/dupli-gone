{
 "cells": [
  {
   "cell_type": "code",
   "execution_count": 1,
   "id": "a774cd00",
   "metadata": {},
   "outputs": [],
   "source": [
    "import os\n",
    "import sys\n",
    "import numpy as np\n",
    "\n",
    "ROOT_DIR = os.path.dirname(os.getcwd())\n",
    "sys.path.append(ROOT_DIR)\n",
    "\n",
    "import pandas as pd\n",
    "from utils import *"
   ]
  },
  {
   "cell_type": "code",
   "execution_count": 18,
   "id": "a834ea29",
   "metadata": {},
   "outputs": [],
   "source": [
    "import itertools\n",
    "\n",
    "def find_ngrams(text: str, n: int):\n",
    "    return [text[i:i + n] for i in range(len(text) - n + 1)]\n",
    "\n",
    "def jaccard_similarity(a: set[str], b: set[str]) -> float:\n",
    "    intersection = a.intersection(b)\n",
    "    union = a.union(b)\n",
    "\n",
    "    return len(intersection) / len(union) if len(union) != 0 else 0\n",
    "\n",
    "class MinHashDeduplicator:\n",
    "    '''\n",
    "    A class to deduplicate articles using MinHash\n",
    "    '''\n",
    "    def __init__(self, k=6, threshold=0.51):\n",
    "        self.k = k\n",
    "        self.treshold = threshold\n",
    "\n",
    "    def calculate_minhash(self, s1: set[int], s2: set[int]):\n",
    "        X = set(sorted(s1 | s2)[:self.k])\n",
    "        Y = X & s1 & s2\n",
    "        return len(Y) / self.k\n",
    "\n",
    "    def calculate_jaccard(self, r1, r2):\n",
    "        scores = [jaccard_similarity(a, b) for a, b in zip(r1, r2) if not pd.isna(a) and not pd.isna(b)]\n",
    "        return np.mean(scores)\n",
    "\n",
    "    def predict(self, articles: pd.DataFrame) -> list[int]:\n",
    "        # change each row to set without hashed values, without NaNs\n",
    "        rows = []\n",
    "        rows_ngram = []\n",
    "        for _, row in articles.iterrows():\n",
    "            for_ngrams = row[[\"titles\", \"contributors\", \"periodical\", \"abstract\"]].tolist()\n",
    "            row_ngram = []\n",
    "            for element in for_ngrams:\n",
    "                if element is None or element != element:\n",
    "                    row_ngram.append(None)\n",
    "                else:\n",
    "                    if isinstance(element, float):\n",
    "                        print(element)\n",
    "                    row_ngram.append(set(find_ngrams(element, 2)))\n",
    "\n",
    "            rows_ngram.append(row_ngram)\n",
    "\n",
    "            row = row.dropna().apply(hash).to_list()\n",
    "            row.sort()\n",
    "            rows.append(set(row[:self.k]))\n",
    "\n",
    "        result = [0 for _ in rows]\n",
    "        # for each pair of rows calculate estimate\n",
    "        for (i, j) in itertools.combinations(range(len(result)), 2):\n",
    "            if self.calculate_minhash(rows[i], rows[j]) > self.treshold:\n",
    "                if self.calculate_jaccard(rows_ngram[i], rows_ngram[j]) > 0.65:\n",
    "                    result[i] = 1\n",
    "                    result[j] = 1\n",
    "        return result\n"
   ]
  },
  {
   "cell_type": "code",
   "execution_count": 3,
   "id": "65c3b618",
   "metadata": {},
   "outputs": [
    {
     "name": "stderr",
     "output_type": "stream",
     "text": [
      "Loading datasets:   0%|          | 0/5 [00:00<?, ?it/s]"
     ]
    },
    {
     "name": "stderr",
     "output_type": "stream",
     "text": [
      "Loading datasets: 100%|██████████| 5/5 [00:09<00:00,  1.93s/it]\n"
     ]
    }
   ],
   "source": [
    "df = prepare_dataset()"
   ]
  },
  {
   "cell_type": "code",
   "execution_count": 16,
   "id": "dee28cfd",
   "metadata": {},
   "outputs": [],
   "source": [
    "times = []\n",
    "f1s = []"
   ]
  },
  {
   "cell_type": "code",
   "execution_count": 19,
   "id": "94cc8c7e",
   "metadata": {},
   "outputs": [],
   "source": [
    "deduplicator = MinHashDeduplicator(threshold=0.8)\n",
    "benchmark = Benchmark(deduplicator)\n",
    "result = benchmark.evaluate(df.drop(columns=[\"caption\", \"label\", \"database\", \"source-app\"]), df['label'])\n",
    "times.append(result[\"prediction_time_sec\"])\n",
    "f1s.append(result[\"f1\"])"
   ]
  },
  {
   "cell_type": "code",
   "execution_count": 20,
   "id": "4985c147",
   "metadata": {},
   "outputs": [],
   "source": [
    "deduplicator = MinHashDeduplicator(threshold=0.64)\n",
    "benchmark = Benchmark(deduplicator)\n",
    "result = benchmark.evaluate(df.drop(columns=[\"caption\", \"label\", \"database\", \"source-app\"]), df['label'])\n",
    "times.append(result[\"prediction_time_sec\"])\n",
    "f1s.append(result[\"f1\"])"
   ]
  },
  {
   "cell_type": "code",
   "execution_count": 21,
   "id": "dcce3fb8",
   "metadata": {},
   "outputs": [],
   "source": [
    "deduplicator = MinHashDeduplicator(threshold=0.48)\n",
    "benchmark = Benchmark(deduplicator)\n",
    "result = benchmark.evaluate(df.drop(columns=[\"caption\", \"label\", \"database\", \"source-app\"]), df['label'])\n",
    "times.append(result[\"prediction_time_sec\"])\n",
    "f1s.append(result[\"f1\"])"
   ]
  },
  {
   "cell_type": "code",
   "execution_count": 22,
   "id": "44a18bc5",
   "metadata": {},
   "outputs": [],
   "source": [
    "deduplicator = MinHashDeduplicator(threshold=0.32)\n",
    "benchmark = Benchmark(deduplicator)\n",
    "result = benchmark.evaluate(df.drop(columns=[\"caption\", \"label\", \"database\", \"source-app\"]), df['label'])\n",
    "times.append(result[\"prediction_time_sec\"])\n",
    "f1s.append(result[\"f1\"])"
   ]
  },
  {
   "cell_type": "code",
   "execution_count": 23,
   "id": "b470bdcc",
   "metadata": {},
   "outputs": [],
   "source": [
    "deduplicator = MinHashDeduplicator(threshold=0.16)\n",
    "benchmark = Benchmark(deduplicator)\n",
    "result = benchmark.evaluate(df.drop(columns=[\"caption\", \"label\", \"database\", \"source-app\"]), df['label'])\n",
    "times.append(result[\"prediction_time_sec\"])\n",
    "f1s.append(result[\"f1\"])"
   ]
  },
  {
   "cell_type": "code",
   "execution_count": 24,
   "id": "11d2850d",
   "metadata": {},
   "outputs": [
    {
     "name": "stdout",
     "output_type": "stream",
     "text": [
      "[62.06077027320862, 62.28947114944458, 63.86949133872986, 73.96885752677917, 526.327832698822]\n",
      "[0.012894906511926924, 0.053418656257432494, 0.2275004091648092, 0.5779510248985051, 0.861492382057169]\n"
     ]
    }
   ],
   "source": [
    "print(times)\n",
    "print(f1s)"
   ]
  },
  {
   "cell_type": "code",
   "execution_count": 1,
   "id": "1ba9ada0",
   "metadata": {},
   "outputs": [],
   "source": [
    "import matplotlib.pyplot as plt"
   ]
  },
  {
   "cell_type": "code",
   "execution_count": 9,
   "id": "c23d9608",
   "metadata": {},
   "outputs": [
    {
     "data": {
      "image/png": "[encoded data removed]",
      "text/plain": [
       "<Figure size 640x480 with 1 Axes>"
      ]
     },
     "metadata": {},
     "output_type": "display_data"
    }
   ],
   "source": [
    "f1s.reverse()\n",
    "times.reverse()\n",
    "thresholds = [0.16, 0.32, 0.48, 0.64, 0.80]\n",
    "\n",
    "\n",
    "fig, ax = plt.subplots()\n",
    "scatter = ax.scatter(times, f1s, c=thresholds)\n",
    "legend1 = ax.legend(*scatter.legend_elements(),\n",
    "                    loc=\"lower right\", title=\"Thresholds\")\n",
    "ax.add_artist(legend1)\n",
    "ax.grid()\n",
    "ax.set_xlabel(\"time [s]\")\n",
    "ax.set_ylabel(\"f1 score\")\n",
    "plt.show()"
   ]
  },
  {
   "cell_type": "markdown",
   "id": "461678a5",
   "metadata": {},
   "source": []
  }
 ],
 "metadata": {
  "kernelspec": {
   "display_name": ".venv",
   "language": "python",
   "name": "python3"
  },
  "language_info": {
   "codemirror_mode": {
    "name": "ipython",
    "version": 3
   },
   "file_extension": ".py",
   "mimetype": "text/x-python",
   "name": "python",
   "nbconvert_exporter": "python",
   "pygments_lexer": "ipython3",
   "version": "3.13.3"
  }
 },
 "nbformat": 4,
 "nbformat_minor": 5
}
